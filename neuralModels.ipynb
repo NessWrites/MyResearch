{
 "cells": [
  {
   "cell_type": "markdown",
   "metadata": {},
   "source": [
    "<h2>\"Training Neural Network: Batch Normalisation\"</h2>"
   ]
  },
  {
   "cell_type": "code",
   "execution_count": 1,
   "metadata": {},
   "outputs": [],
   "source": [
    "import torch\n",
    "import torch.nn.functional as F\n",
    "import matplotlib.pyplot as plt\n",
    "%matplotlib inline\n",
    "\n"
   ]
  },
  {
   "cell_type": "code",
   "execution_count": 2,
   "metadata": {},
   "outputs": [
    {
     "name": "stdout",
     "output_type": "stream",
     "text": [
      "['emma', 'olivia', 'ava', 'isabella', 'sophia', 'charlotte', 'mia', 'amelia']\n"
     ]
    },
    {
     "data": {
      "text/plain": [
       "32033"
      ]
     },
     "execution_count": 2,
     "metadata": {},
     "output_type": "execute_result"
    }
   ],
   "source": [
    "#read all the words \n",
    "words = open('names.txt', 'r').read().splitlines()\n",
    "print(words[:8])\n",
    "#total words length \n",
    "len(words)"
   ]
  },
  {
   "cell_type": "code",
   "execution_count": 3,
   "metadata": {},
   "outputs": [
    {
     "name": "stdout",
     "output_type": "stream",
     "text": [
      "{1: 'a', 2: 'b', 3: 'c', 4: 'd', 5: 'e', 6: 'f', 7: 'g', 8: 'h', 9: 'i', 10: 'j', 11: 'k', 12: 'l', 13: 'm', 14: 'n', 15: 'o', 16: 'p', 17: 'q', 18: 'r', 19: 's', 20: 't', 21: 'u', 22: 'v', 23: 'w', 24: 'x', 25: 'y', 26: 'z', 0: '.'}\n"
     ]
    }
   ],
   "source": [
    "# build the vocabulary of characters and mappings to/from integers\n",
    "#Use dictionary \n",
    "chars = sorted(list(set(''.join(words))))\n",
    "stoi = {s:i+1 for i,s in enumerate(chars)}\n",
    "stoi['.'] = 0\n",
    "itos = {i:s for s,i in stoi.items()}\n",
    "print(itos)"
   ]
  },
  {
   "cell_type": "code",
   "execution_count": 4,
   "metadata": {},
   "outputs": [
    {
     "name": "stdout",
     "output_type": "stream",
     "text": [
      "... ---> e\n",
      "..e ---> m\n",
      ".em ---> m\n",
      "emm ---> a\n",
      "mma ---> .\n",
      "... ---> o\n",
      "..o ---> l\n",
      ".ol ---> i\n",
      "oli ---> v\n",
      "liv ---> i\n",
      "ivi ---> a\n",
      "via ---> .\n",
      "... ---> a\n",
      "..a ---> v\n",
      ".av ---> a\n",
      "ava ---> .\n",
      "... ---> i\n",
      "..i ---> s\n",
      ".is ---> a\n",
      "isa ---> b\n",
      "sab ---> e\n",
      "abe ---> l\n",
      "bel ---> l\n",
      "ell ---> a\n",
      "lla ---> .\n",
      "... ---> s\n",
      "..s ---> o\n",
      ".so ---> p\n",
      "sop ---> h\n",
      "oph ---> i\n",
      "phi ---> a\n",
      "hia ---> .\n"
     ]
    }
   ],
   "source": [
    "# build the dataset\n",
    "\n",
    "block_size = 3 # context length: how many characters do we take to predict the next one?\n",
    "X, Y = [], []\n",
    "for w in words[:5]:\n",
    "  \n",
    "  #print(w)\n",
    "  context = [0] * block_size\n",
    "  for ch in w + '.':\n",
    "    ix = stoi[ch]\n",
    "    X.append(context)\n",
    "    Y.append(ix)\n",
    "    print(''.join(itos[i] for i in context), '--->', itos[ix])\n",
    "    context = context[1:] + [ix] # crop and append"
   ]
  },
  {
   "cell_type": "code",
   "execution_count": 5,
   "metadata": {},
   "outputs": [
    {
     "name": "stdout",
     "output_type": "stream",
     "text": [
      "torch.Size([182625, 3]) torch.Size([182625])\n",
      "torch.Size([22655, 3]) torch.Size([22655])\n",
      "torch.Size([22866, 3]) torch.Size([22866])\n"
     ]
    }
   ],
   "source": [
    "# build the dataset\n",
    "block_size = 3 # context length: how many characters do we take to predict the next one?\n",
    "\n",
    "def build_dataset(words):  \n",
    "  X, Y = [], []\n",
    "  for w in words:\n",
    "\n",
    "    context = [0] * block_size\n",
    "    for ch in w + '.':\n",
    "      ix = stoi[ch]\n",
    "      X.append(context)\n",
    "      Y.append(ix)\n",
    "      #print(''.join(itos[i] for i in context), '--->', itos[ix])\n",
    "      context = context[1:] + [ix] # crop and append\n",
    "\n",
    "  X = torch.tensor(X)\n",
    "  Y = torch.tensor(Y)\n",
    "  print(X.shape, Y.shape)\n",
    "  return X, Y\n",
    "\n",
    "import random\n",
    "random.seed(42)\n",
    "random.shuffle(words)\n",
    "n1 = int(0.8*len(words))\n",
    "n2 = int(0.9*len(words))\n",
    "\n",
    "Xtr, Ytr = build_dataset(words[:n1])\n",
    "Xdev, Ydev = build_dataset(words[n1:n2])\n",
    "Xte, Yte = build_dataset(words[n2:])"
   ]
  },
  {
   "cell_type": "code",
   "execution_count": 6,
   "metadata": {},
   "outputs": [],
   "source": [
    "X = torch.tensor(X)\n",
    "Y = torch.tensor(Y)"
   ]
  },
  {
   "cell_type": "code",
   "execution_count": 7,
   "metadata": {},
   "outputs": [
    {
     "data": {
      "text/plain": [
       "(torch.Size([32, 3]), torch.int64, torch.Size([32]), torch.int64)"
      ]
     },
     "execution_count": 7,
     "metadata": {},
     "output_type": "execute_result"
    }
   ],
   "source": [
    "X.shape, X.dtype, Y.shape, Y.dtype"
   ]
  },
  {
   "cell_type": "code",
   "execution_count": 36,
   "metadata": {},
   "outputs": [
    {
     "data": {
      "text/plain": [
       "tensor([[ 0,  0,  0],\n",
       "        [ 0,  0,  5],\n",
       "        [ 0,  5, 13],\n",
       "        [ 5, 13, 13],\n",
       "        [13, 13,  1],\n",
       "        [ 0,  0,  0],\n",
       "        [ 0,  0, 15],\n",
       "        [ 0, 15, 12],\n",
       "        [15, 12,  9],\n",
       "        [12,  9, 22],\n",
       "        [ 9, 22,  9],\n",
       "        [22,  9,  1],\n",
       "        [ 0,  0,  0],\n",
       "        [ 0,  0,  1],\n",
       "        [ 0,  1, 22],\n",
       "        [ 1, 22,  1],\n",
       "        [ 0,  0,  0],\n",
       "        [ 0,  0,  9],\n",
       "        [ 0,  9, 19],\n",
       "        [ 9, 19,  1],\n",
       "        [19,  1,  2],\n",
       "        [ 1,  2,  5],\n",
       "        [ 2,  5, 12],\n",
       "        [ 5, 12, 12],\n",
       "        [12, 12,  1],\n",
       "        [ 0,  0,  0],\n",
       "        [ 0,  0, 19],\n",
       "        [ 0, 19, 15],\n",
       "        [19, 15, 16],\n",
       "        [15, 16,  8],\n",
       "        [16,  8,  9],\n",
       "        [ 8,  9,  1]])"
      ]
     },
     "execution_count": 36,
     "metadata": {},
     "output_type": "execute_result"
    }
   ],
   "source": [
    "# X is a matrix of block...\n",
    "# for example \n",
    "# . =>0\n",
    "# e => 5\n",
    "# m =>13\n",
    "#... => 0,0,0\n",
    "#..e => 0,0,5\n",
    "X\n"
   ]
  },
  {
   "cell_type": "code",
   "execution_count": 8,
   "metadata": {},
   "outputs": [
    {
     "data": {
      "text/plain": [
       "tensor([ 5, 13, 13,  1,  0, 15, 12,  9, 22,  9,  1,  0,  1, 22,  1,  0,  9, 19,\n",
       "         1,  2,  5, 12, 12,  1,  0, 19, 15, 16,  8,  9,  1,  0])"
      ]
     },
     "execution_count": 8,
     "metadata": {},
     "output_type": "execute_result"
    }
   ],
   "source": [
    "# Y is the outcome after the end of one context block\n",
    "Y"
   ]
  },
  {
   "cell_type": "code",
   "execution_count": 9,
   "metadata": {},
   "outputs": [],
   "source": [
    "# C is the 27*2 order matrix of random distribution\n",
    "C = torch.randn(27,2)"
   ]
  },
  {
   "cell_type": "code",
   "execution_count": 10,
   "metadata": {},
   "outputs": [],
   "source": [
    "#our neural network consists of three layers as was given by the paper called \n",
    "\n",
    "#given by our embeddings: for 27 characters our input will be 27 and we choose 2 dimensioned vector [C] and 3 neural networks \n",
    "#hidden layers (given by W1)\n",
    "#outer layer"
   ]
  },
  {
   "cell_type": "code",
   "execution_count": 11,
   "metadata": {},
   "outputs": [
    {
     "data": {
      "text/plain": [
       "'\\nfor ..e X will be 005\\n005(order: 1*3) tensor then multiplies with C (order: 27*2)\\n005 000 000 000 000 000 .....000 multiplies with C\\nproduces an resultant matrix of size 1*3*2 \\n#this gives the meaning each element is embedded with two distribution\\n\\n\\n\\n'"
      ]
     },
     "execution_count": 11,
     "metadata": {},
     "output_type": "execute_result"
    }
   ],
   "source": [
    "#emb stands for embeddings\n",
    "emb = C[X]\n",
    "emb.shape\n",
    "# which is the random distribution of all the elements present in tensor X.\n",
    "# it is like index position of list giving the elements in that list\n",
    "# so embeddings give all the random distribution of elements in  tensor X\n",
    "\n",
    "\n",
    "#now the reason behind indexing X in C is :\n",
    "# X is our input \n",
    "# C is the probability distribution\n",
    "# when we index C into X it will give us the probability distribution for our input\n",
    "\n",
    "# for example \n",
    "'''\n",
    "for ..e X will be 005\n",
    "005(order: 1*3) tensor then multiplies with C (order: 27*2)\n",
    "005 000 000 000 000 000 .....000 multiplies with C\n",
    "produces an resultant matrix of size 1*3*2 \n",
    "#this gives the meaning each element is embedded with two distribution\n",
    "\n",
    "\n",
    "\n",
    "'''\n"
   ]
  },
  {
   "cell_type": "code",
   "execution_count": 16,
   "metadata": {},
   "outputs": [],
   "source": [
    "#constructing the hidden layer\n",
    "W1 = torch.randn((6,100)) #6 bcoz we have 2 dimensional embeddings and we have 3 neural weights\n",
    "b1 = torch.randn(100) #biases"
   ]
  },
  {
   "cell_type": "code",
   "execution_count": 41,
   "metadata": {},
   "outputs": [],
   "source": [
    "# lets talk about the size of the embeddings\n",
    "\n",
    "# lets say the size of tensor X is 16 * 3 \n",
    "#every 16*3 element has two normal distribution.Hence one dimension is added in the embeddings\n"
   ]
  },
  {
   "cell_type": "code",
   "execution_count": 42,
   "metadata": {},
   "outputs": [
    {
     "data": {
      "text/plain": [
       "torch.Size([6, 100])"
      ]
     },
     "execution_count": 42,
     "metadata": {},
     "output_type": "execute_result"
    }
   ],
   "source": [
    "W1 = torch.randn((6, 100)) #W1 is our hidden layer\n",
    "b1 = torch.randn(100)\n",
    "W1.shape"
   ]
  },
  {
   "cell_type": "code",
   "execution_count": 17,
   "metadata": {},
   "outputs": [
    {
     "ename": "RuntimeError",
     "evalue": "mat1 and mat2 shapes cannot be multiplied (96x2 and 6x100)",
     "output_type": "error",
     "traceback": [
      "\u001b[0;31m---------------------------------------------------------------------------\u001b[0m",
      "\u001b[0;31mRuntimeError\u001b[0m                              Traceback (most recent call last)",
      "Cell \u001b[0;32mIn[17], line 18\u001b[0m\n\u001b[1;32m      1\u001b[0m \u001b[38;5;66;03m# What a neural network is \u001b[39;00m\n\u001b[1;32m      2\u001b[0m \u001b[38;5;124;03m'''\u001b[39;00m\n\u001b[1;32m      3\u001b[0m \u001b[38;5;124;03mX@W+b  or \u001b[39;00m\n\u001b[1;32m      4\u001b[0m \u001b[38;5;124;03min present case : emb @ W1 +b1\u001b[39;00m\n\u001b[0;32m   (...)\u001b[0m\n\u001b[1;32m     15\u001b[0m \n\u001b[1;32m     16\u001b[0m \u001b[38;5;124;03m'''\u001b[39;00m\n\u001b[0;32m---> 18\u001b[0m \u001b[43memb\u001b[49m\u001b[38;5;129;43m@W1\u001b[39;49m\n",
      "\u001b[0;31mRuntimeError\u001b[0m: mat1 and mat2 shapes cannot be multiplied (96x2 and 6x100)"
     ]
    }
   ],
   "source": [
    "# What a neural network is \n",
    "'''\n",
    "X@W+b  or \n",
    "in present case : emb @ W1 +b1\n",
    "\n",
    "but we cannot do emb@W +b just yet\n",
    "because emb dimension is 48*2\n",
    "and W1 dimension is 6*100\n",
    "\n",
    "Now lets analyze why emb is 48*2\n",
    "We have our input size 16*2\n",
    "32 * 2 @3 we multiply our inputs with 3 because there are 3 neurons \n",
    " \n",
    "\n",
    "\n",
    "'''\n",
    "\n",
    "emb@W1"
   ]
  },
  {
   "cell_type": "code",
   "execution_count": 18,
   "metadata": {},
   "outputs": [
    {
     "data": {
      "text/plain": [
       "tensor([[-0.8972, -0.4064, -0.8972, -0.4064, -0.8972, -0.4064],\n",
       "        [-0.8972, -0.4064, -0.8972, -0.4064,  0.5268, -0.0790],\n",
       "        [-0.8972, -0.4064,  0.5268, -0.0790, -0.9475,  0.0618],\n",
       "        [ 0.5268, -0.0790, -0.9475,  0.0618, -0.9475,  0.0618],\n",
       "        [-0.9475,  0.0618, -0.9475,  0.0618, -0.6001, -0.2052],\n",
       "        [-0.8972, -0.4064, -0.8972, -0.4064, -0.8972, -0.4064],\n",
       "        [-0.8972, -0.4064, -0.8972, -0.4064,  0.1683, -0.1277],\n",
       "        [-0.8972, -0.4064,  0.1683, -0.1277, -0.8697, -1.2965],\n",
       "        [ 0.1683, -0.1277, -0.8697, -1.2965, -2.2814, -0.0157],\n",
       "        [-0.8697, -1.2965, -2.2814, -0.0157,  0.6797,  0.4203],\n",
       "        [-2.2814, -0.0157,  0.6797,  0.4203, -2.2814, -0.0157],\n",
       "        [ 0.6797,  0.4203, -2.2814, -0.0157, -0.6001, -0.2052],\n",
       "        [-0.8972, -0.4064, -0.8972, -0.4064, -0.8972, -0.4064],\n",
       "        [-0.8972, -0.4064, -0.8972, -0.4064, -0.6001, -0.2052],\n",
       "        [-0.8972, -0.4064, -0.6001, -0.2052,  0.6797,  0.4203],\n",
       "        [-0.6001, -0.2052,  0.6797,  0.4203, -0.6001, -0.2052],\n",
       "        [-0.8972, -0.4064, -0.8972, -0.4064, -0.8972, -0.4064],\n",
       "        [-0.8972, -0.4064, -0.8972, -0.4064, -2.2814, -0.0157],\n",
       "        [-0.8972, -0.4064, -2.2814, -0.0157,  0.6885, -1.7320],\n",
       "        [-2.2814, -0.0157,  0.6885, -1.7320, -0.6001, -0.2052],\n",
       "        [ 0.6885, -1.7320, -0.6001, -0.2052, -0.4795, -1.4013],\n",
       "        [-0.6001, -0.2052, -0.4795, -1.4013,  0.5268, -0.0790],\n",
       "        [-0.4795, -1.4013,  0.5268, -0.0790, -0.8697, -1.2965],\n",
       "        [ 0.5268, -0.0790, -0.8697, -1.2965, -0.8697, -1.2965],\n",
       "        [-0.8697, -1.2965, -0.8697, -1.2965, -0.6001, -0.2052],\n",
       "        [-0.8972, -0.4064, -0.8972, -0.4064, -0.8972, -0.4064],\n",
       "        [-0.8972, -0.4064, -0.8972, -0.4064,  0.6885, -1.7320],\n",
       "        [-0.8972, -0.4064,  0.6885, -1.7320,  0.1683, -0.1277],\n",
       "        [ 0.6885, -1.7320,  0.1683, -0.1277, -0.1770,  0.5898],\n",
       "        [ 0.1683, -0.1277, -0.1770,  0.5898,  0.3432,  0.0408],\n",
       "        [-0.1770,  0.5898,  0.3432,  0.0408, -2.2814, -0.0157],\n",
       "        [ 0.3432,  0.0408, -2.2814, -0.0157, -0.6001, -0.2052]])"
      ]
     },
     "execution_count": 18,
     "metadata": {},
     "output_type": "execute_result"
    }
   ],
   "source": [
    "#Some functions such as concatenate, unbind helps to multiply two matrixes of different size\n",
    "#Concatenate\n",
    "\n",
    "#We can solve above issue using concatenate \n",
    "\n",
    "\n",
    "#Concatenates the given sequence of seq tensors in the given dimension. All tensors must have the same shape\n",
    "#(except in the concatenating dimension) or be empty.\n",
    "torch.cat([emb[:,0,:], emb[:,1,:], emb[:,2,:]],1)\n",
    "\n",
    "#but still this is inefficient as we have to manually index \n",
    "\n",
    "\n",
    "\n",
    "# Torch has another function called unbind"
   ]
  },
  {
   "cell_type": "code",
   "execution_count": 19,
   "metadata": {},
   "outputs": [
    {
     "data": {
      "text/plain": [
       "(tensor([[-0.8972, -0.4064],\n",
       "         [-0.8972, -0.4064],\n",
       "         [-0.8972, -0.4064],\n",
       "         [ 0.5268, -0.0790],\n",
       "         [-0.9475,  0.0618],\n",
       "         [-0.8972, -0.4064],\n",
       "         [-0.8972, -0.4064],\n",
       "         [-0.8972, -0.4064],\n",
       "         [ 0.1683, -0.1277],\n",
       "         [-0.8697, -1.2965],\n",
       "         [-2.2814, -0.0157],\n",
       "         [ 0.6797,  0.4203],\n",
       "         [-0.8972, -0.4064],\n",
       "         [-0.8972, -0.4064],\n",
       "         [-0.8972, -0.4064],\n",
       "         [-0.6001, -0.2052],\n",
       "         [-0.8972, -0.4064],\n",
       "         [-0.8972, -0.4064],\n",
       "         [-0.8972, -0.4064],\n",
       "         [-2.2814, -0.0157],\n",
       "         [ 0.6885, -1.7320],\n",
       "         [-0.6001, -0.2052],\n",
       "         [-0.4795, -1.4013],\n",
       "         [ 0.5268, -0.0790],\n",
       "         [-0.8697, -1.2965],\n",
       "         [-0.8972, -0.4064],\n",
       "         [-0.8972, -0.4064],\n",
       "         [-0.8972, -0.4064],\n",
       "         [ 0.6885, -1.7320],\n",
       "         [ 0.1683, -0.1277],\n",
       "         [-0.1770,  0.5898],\n",
       "         [ 0.3432,  0.0408]]),\n",
       " tensor([[-0.8972, -0.4064],\n",
       "         [-0.8972, -0.4064],\n",
       "         [ 0.5268, -0.0790],\n",
       "         [-0.9475,  0.0618],\n",
       "         [-0.9475,  0.0618],\n",
       "         [-0.8972, -0.4064],\n",
       "         [-0.8972, -0.4064],\n",
       "         [ 0.1683, -0.1277],\n",
       "         [-0.8697, -1.2965],\n",
       "         [-2.2814, -0.0157],\n",
       "         [ 0.6797,  0.4203],\n",
       "         [-2.2814, -0.0157],\n",
       "         [-0.8972, -0.4064],\n",
       "         [-0.8972, -0.4064],\n",
       "         [-0.6001, -0.2052],\n",
       "         [ 0.6797,  0.4203],\n",
       "         [-0.8972, -0.4064],\n",
       "         [-0.8972, -0.4064],\n",
       "         [-2.2814, -0.0157],\n",
       "         [ 0.6885, -1.7320],\n",
       "         [-0.6001, -0.2052],\n",
       "         [-0.4795, -1.4013],\n",
       "         [ 0.5268, -0.0790],\n",
       "         [-0.8697, -1.2965],\n",
       "         [-0.8697, -1.2965],\n",
       "         [-0.8972, -0.4064],\n",
       "         [-0.8972, -0.4064],\n",
       "         [ 0.6885, -1.7320],\n",
       "         [ 0.1683, -0.1277],\n",
       "         [-0.1770,  0.5898],\n",
       "         [ 0.3432,  0.0408],\n",
       "         [-2.2814, -0.0157]]),\n",
       " tensor([[-0.8972, -0.4064],\n",
       "         [ 0.5268, -0.0790],\n",
       "         [-0.9475,  0.0618],\n",
       "         [-0.9475,  0.0618],\n",
       "         [-0.6001, -0.2052],\n",
       "         [-0.8972, -0.4064],\n",
       "         [ 0.1683, -0.1277],\n",
       "         [-0.8697, -1.2965],\n",
       "         [-2.2814, -0.0157],\n",
       "         [ 0.6797,  0.4203],\n",
       "         [-2.2814, -0.0157],\n",
       "         [-0.6001, -0.2052],\n",
       "         [-0.8972, -0.4064],\n",
       "         [-0.6001, -0.2052],\n",
       "         [ 0.6797,  0.4203],\n",
       "         [-0.6001, -0.2052],\n",
       "         [-0.8972, -0.4064],\n",
       "         [-2.2814, -0.0157],\n",
       "         [ 0.6885, -1.7320],\n",
       "         [-0.6001, -0.2052],\n",
       "         [-0.4795, -1.4013],\n",
       "         [ 0.5268, -0.0790],\n",
       "         [-0.8697, -1.2965],\n",
       "         [-0.8697, -1.2965],\n",
       "         [-0.6001, -0.2052],\n",
       "         [-0.8972, -0.4064],\n",
       "         [ 0.6885, -1.7320],\n",
       "         [ 0.1683, -0.1277],\n",
       "         [-0.1770,  0.5898],\n",
       "         [ 0.3432,  0.0408],\n",
       "         [-2.2814, -0.0157],\n",
       "         [-0.6001, -0.2052]]))"
      ]
     },
     "execution_count": 19,
     "metadata": {},
     "output_type": "execute_result"
    }
   ],
   "source": [
    "#unbind: removes a tensor dimension & returns a tuple of all slices along a given dimension, already without it\n",
    "torch.cat(torch.unbind(emb,1),1)\n",
    "\n",
    "#concatenation  creates a whole new tensor which is a wastage of storage.\n",
    "torch.unbind(emb,1) #gives tuple of emb with same size as returned by [emb[:,0,:], emb[:,1,:], emb[:,2,:]]"
   ]
  },
  {
   "cell_type": "code",
   "execution_count": 20,
   "metadata": {},
   "outputs": [
    {
     "data": {
      "text/plain": [
       "tensor([[-0.8972, -0.4064, -0.8972, -0.4064, -0.8972, -0.4064],\n",
       "        [-0.8972, -0.4064, -0.8972, -0.4064,  0.5268, -0.0790],\n",
       "        [-0.8972, -0.4064,  0.5268, -0.0790, -0.9475,  0.0618],\n",
       "        [ 0.5268, -0.0790, -0.9475,  0.0618, -0.9475,  0.0618],\n",
       "        [-0.9475,  0.0618, -0.9475,  0.0618, -0.6001, -0.2052],\n",
       "        [-0.8972, -0.4064, -0.8972, -0.4064, -0.8972, -0.4064],\n",
       "        [-0.8972, -0.4064, -0.8972, -0.4064,  0.1683, -0.1277],\n",
       "        [-0.8972, -0.4064,  0.1683, -0.1277, -0.8697, -1.2965],\n",
       "        [ 0.1683, -0.1277, -0.8697, -1.2965, -2.2814, -0.0157],\n",
       "        [-0.8697, -1.2965, -2.2814, -0.0157,  0.6797,  0.4203],\n",
       "        [-2.2814, -0.0157,  0.6797,  0.4203, -2.2814, -0.0157],\n",
       "        [ 0.6797,  0.4203, -2.2814, -0.0157, -0.6001, -0.2052],\n",
       "        [-0.8972, -0.4064, -0.8972, -0.4064, -0.8972, -0.4064],\n",
       "        [-0.8972, -0.4064, -0.8972, -0.4064, -0.6001, -0.2052],\n",
       "        [-0.8972, -0.4064, -0.6001, -0.2052,  0.6797,  0.4203],\n",
       "        [-0.6001, -0.2052,  0.6797,  0.4203, -0.6001, -0.2052],\n",
       "        [-0.8972, -0.4064, -0.8972, -0.4064, -0.8972, -0.4064],\n",
       "        [-0.8972, -0.4064, -0.8972, -0.4064, -2.2814, -0.0157],\n",
       "        [-0.8972, -0.4064, -2.2814, -0.0157,  0.6885, -1.7320],\n",
       "        [-2.2814, -0.0157,  0.6885, -1.7320, -0.6001, -0.2052],\n",
       "        [ 0.6885, -1.7320, -0.6001, -0.2052, -0.4795, -1.4013],\n",
       "        [-0.6001, -0.2052, -0.4795, -1.4013,  0.5268, -0.0790],\n",
       "        [-0.4795, -1.4013,  0.5268, -0.0790, -0.8697, -1.2965],\n",
       "        [ 0.5268, -0.0790, -0.8697, -1.2965, -0.8697, -1.2965],\n",
       "        [-0.8697, -1.2965, -0.8697, -1.2965, -0.6001, -0.2052],\n",
       "        [-0.8972, -0.4064, -0.8972, -0.4064, -0.8972, -0.4064],\n",
       "        [-0.8972, -0.4064, -0.8972, -0.4064,  0.6885, -1.7320],\n",
       "        [-0.8972, -0.4064,  0.6885, -1.7320,  0.1683, -0.1277],\n",
       "        [ 0.6885, -1.7320,  0.1683, -0.1277, -0.1770,  0.5898],\n",
       "        [ 0.1683, -0.1277, -0.1770,  0.5898,  0.3432,  0.0408],\n",
       "        [-0.1770,  0.5898,  0.3432,  0.0408, -2.2814, -0.0157],\n",
       "        [ 0.3432,  0.0408, -2.2814, -0.0157, -0.6001, -0.2052]])"
      ]
     },
     "execution_count": 20,
     "metadata": {},
     "output_type": "execute_result"
    }
   ],
   "source": [
    "torch.concat(torch.unbind(emb,1),1)"
   ]
  },
  {
   "cell_type": "code",
   "execution_count": 21,
   "metadata": {},
   "outputs": [
    {
     "data": {
      "text/plain": [
       "torch.Size([32, 6])"
      ]
     },
     "execution_count": 21,
     "metadata": {},
     "output_type": "execute_result"
    }
   ],
   "source": [
    "torch.concat(torch.unbind(emb,1),1).shape"
   ]
  },
  {
   "cell_type": "code",
   "execution_count": 47,
   "metadata": {},
   "outputs": [
    {
     "data": {
      "text/plain": [
       "torch.Size([32, 3, 2])"
      ]
     },
     "execution_count": 47,
     "metadata": {},
     "output_type": "execute_result"
    }
   ],
   "source": [
    "emb.shape\n",
    "\n",
    "#unbind mashed up 3*2 into 6 . \n",
    "#unbind and concated took 32*3*2 order emb and returned 32*6 matrix\n",
    "\n",
    "# we do this because our hidden layer size is 6*100\n",
    "# our hidden layer size is 6*100 because, we have 3 neurons with 2 dimension at our first layer"
   ]
  },
  {
   "cell_type": "code",
   "execution_count": 22,
   "metadata": {},
   "outputs": [],
   "source": [
    "#we can also use another function of pytorch. And this will be used at production level as well\n",
    "#more significant and better way\n",
    "#View function\n",
    "\n",
    "#note: A view function can be used to rearrange the matrix element in any size in the way we want\n",
    "#very important"
   ]
  },
  {
   "cell_type": "code",
   "execution_count": 25,
   "metadata": {},
   "outputs": [
    {
     "data": {
      "text/plain": [
       "tensor([ 0,  1,  2,  3,  4,  5,  6,  7,  8,  9, 10, 11, 12, 13, 14, 15, 16, 17])"
      ]
     },
     "execution_count": 25,
     "metadata": {},
     "output_type": "execute_result"
    }
   ],
   "source": [
    "# A tensor from 0 to 17\n",
    "a = torch.arange(18)\n",
    "a"
   ]
  },
  {
   "cell_type": "code",
   "execution_count": 26,
   "metadata": {},
   "outputs": [
    {
     "data": {
      "text/plain": [
       "torch.Size([18])"
      ]
     },
     "execution_count": 26,
     "metadata": {},
     "output_type": "execute_result"
    }
   ],
   "source": [
    "a.shape"
   ]
  },
  {
   "cell_type": "code",
   "execution_count": 28,
   "metadata": {},
   "outputs": [
    {
     "data": {
      "text/plain": [
       "tensor([[ 0,  1,  2,  3,  4,  5,  6,  7,  8],\n",
       "        [ 9, 10, 11, 12, 13, 14, 15, 16, 17]])"
      ]
     },
     "execution_count": 28,
     "metadata": {},
     "output_type": "execute_result"
    }
   ],
   "source": [
    "a.view(2,9)"
   ]
  },
  {
   "cell_type": "code",
   "execution_count": 29,
   "metadata": {},
   "outputs": [
    {
     "data": {
      "text/plain": [
       "tensor([[[ 0,  1],\n",
       "         [ 2,  3],\n",
       "         [ 4,  5]],\n",
       "\n",
       "        [[ 6,  7],\n",
       "         [ 8,  9],\n",
       "         [10, 11]],\n",
       "\n",
       "        [[12, 13],\n",
       "         [14, 15],\n",
       "         [16, 17]]])"
      ]
     },
     "execution_count": 29,
     "metadata": {},
     "output_type": "execute_result"
    }
   ],
   "source": [
    "a.view(3,3,2)"
   ]
  },
  {
   "cell_type": "code",
   "execution_count": 30,
   "metadata": {},
   "outputs": [
    {
     "name": "stderr",
     "output_type": "stream",
     "text": [
      "/var/folders/y0/gqnwmd7j4j76t0rjlvwt9yx80000gn/T/ipykernel_90873/428587008.py:6: UserWarning: TypedStorage is deprecated. It will be removed in the future and UntypedStorage will be the only storage class. This should only matter to you if you are using storages directly.  To access UntypedStorage directly, use tensor.untyped_storage() instead of tensor.storage()\n",
      "  a.storage()\n"
     ]
    },
    {
     "data": {
      "text/plain": [
       " 0\n",
       " 1\n",
       " 2\n",
       " 3\n",
       " 4\n",
       " 5\n",
       " 6\n",
       " 7\n",
       " 8\n",
       " 9\n",
       " 10\n",
       " 11\n",
       " 12\n",
       " 13\n",
       " 14\n",
       " 15\n",
       " 16\n",
       " 17\n",
       "[torch.storage.TypedStorage(dtype=torch.int64, device=cpu) of size 18]"
      ]
     },
     "execution_count": 30,
     "metadata": {},
     "output_type": "execute_result"
    }
   ],
   "source": [
    "#this is how computer mememory stores every tensor. (as one dimension)\n",
    "#so we can manipulate dimension of matrices of the tensor using view function\n",
    "# it doesn't need any e\t\ta memory \n",
    "#ultra efficient function\n",
    "\n",
    "a.storage()"
   ]
  },
  {
   "cell_type": "code",
   "execution_count": 31,
   "metadata": {},
   "outputs": [
    {
     "data": {
      "text/plain": [
       "torch.Size([16, 3, 2])"
      ]
     },
     "execution_count": 31,
     "metadata": {},
     "output_type": "execute_result"
    }
   ],
   "source": [
    "emb.shape"
   ]
  },
  {
   "cell_type": "code",
   "execution_count": null,
   "metadata": {},
   "outputs": [],
   "source": [
    "#hint : matrices and tensors are same thing : dont get confused"
   ]
  },
  {
   "cell_type": "code",
   "execution_count": 49,
   "metadata": {},
   "outputs": [
    {
     "data": {
      "text/plain": [
       "tensor([[True, True, True, True, True, True],\n",
       "        [True, True, True, True, True, True],\n",
       "        [True, True, True, True, True, True],\n",
       "        [True, True, True, True, True, True],\n",
       "        [True, True, True, True, True, True],\n",
       "        [True, True, True, True, True, True],\n",
       "        [True, True, True, True, True, True],\n",
       "        [True, True, True, True, True, True],\n",
       "        [True, True, True, True, True, True],\n",
       "        [True, True, True, True, True, True],\n",
       "        [True, True, True, True, True, True],\n",
       "        [True, True, True, True, True, True],\n",
       "        [True, True, True, True, True, True],\n",
       "        [True, True, True, True, True, True],\n",
       "        [True, True, True, True, True, True],\n",
       "        [True, True, True, True, True, True],\n",
       "        [True, True, True, True, True, True],\n",
       "        [True, True, True, True, True, True],\n",
       "        [True, True, True, True, True, True],\n",
       "        [True, True, True, True, True, True],\n",
       "        [True, True, True, True, True, True],\n",
       "        [True, True, True, True, True, True],\n",
       "        [True, True, True, True, True, True],\n",
       "        [True, True, True, True, True, True],\n",
       "        [True, True, True, True, True, True],\n",
       "        [True, True, True, True, True, True],\n",
       "        [True, True, True, True, True, True],\n",
       "        [True, True, True, True, True, True],\n",
       "        [True, True, True, True, True, True],\n",
       "        [True, True, True, True, True, True],\n",
       "        [True, True, True, True, True, True],\n",
       "        [True, True, True, True, True, True]])"
      ]
     },
     "execution_count": 49,
     "metadata": {},
     "output_type": "execute_result"
    }
   ],
   "source": [
    "#true means that all the states of the tensors are same\n",
    "emb.view(32,6) == torch.cat(torch.unbind(emb,1),1)"
   ]
  },
  {
   "cell_type": "markdown",
   "metadata": {},
   "source": [
    "<h2>Hidden Layer</h2>"
   ]
  },
  {
   "cell_type": "code",
   "execution_count": 50,
   "metadata": {},
   "outputs": [],
   "source": [
    "# now the formula of the neural network\n",
    "# XW+ b (input * weight + bias)\n",
    "# also given by emb @ W + b\n",
    "# 'h' is the hidden state we are after\n",
    "\n",
    "# now the error in line 76 can be managed with view by\n",
    "#h= emb.view(32,6) @ W1 +b1\n",
    "#alternatively we can write above code like below\n",
    "#h =emb.view(shape[0],6)@ W1 +b1 or,\n",
    "h =emb.view(-1,6)@ W1 +b1  #here pytorch will infer what \"-1\" should be. bcoz number of elements must be the -\n",
    "#same and we have entered 6 (columns) already. pytorch will derive \"-1\" (rows) to be 32\n",
    "\n"
   ]
  },
  {
   "cell_type": "code",
   "execution_count": 24,
   "metadata": {},
   "outputs": [],
   "source": [
    "h = torch.tanh(emb.view(-1, 6) @ W1 + b1)"
   ]
  },
  {
   "cell_type": "code",
   "execution_count": 25,
   "metadata": {},
   "outputs": [
    {
     "data": {
      "text/plain": [
       "tensor([[ 0.8459, -0.9950, -0.1103,  ..., -0.9444,  0.5362,  0.7180],\n",
       "        [ 0.1270, -0.9973, -0.9639,  ..., -0.9990,  0.8552,  0.8924],\n",
       "        [ 0.7974, -0.9946,  0.8650,  ..., -0.5492, -0.5330,  0.6790],\n",
       "        ...,\n",
       "        [-0.3292, -0.9114,  0.3738,  ..., -0.8199,  0.9872,  0.1301],\n",
       "        [ 0.5740, -0.5503,  0.9990,  ...,  0.9976, -0.6891, -0.7357],\n",
       "        [-0.5806, -0.2094, -0.4023,  ..., -0.7985,  0.9906, -0.5810]])"
      ]
     },
     "execution_count": 25,
     "metadata": {},
     "output_type": "execute_result"
    }
   ],
   "source": [
    "h"
   ]
  },
  {
   "cell_type": "code",
   "execution_count": 53,
   "metadata": {},
   "outputs": [
    {
     "data": {
      "text/plain": [
       "torch.Size([32, 100])"
      ]
     },
     "execution_count": 53,
     "metadata": {},
     "output_type": "execute_result"
    }
   ],
   "source": [
    "h.shape"
   ]
  },
  {
   "cell_type": "code",
   "execution_count": 26,
   "metadata": {},
   "outputs": [],
   "source": [
    "#consturcting another layer\n",
    "W2 = torch.randn((100, 27))\n",
    "b2 = torch.randn(27)"
   ]
  },
  {
   "cell_type": "code",
   "execution_count": 27,
   "metadata": {},
   "outputs": [],
   "source": [
    "logits = h @ W2 + b2 #h is an input to the second layer . assgining weights and adding biasness\n"
   ]
  },
  {
   "cell_type": "code",
   "execution_count": 28,
   "metadata": {},
   "outputs": [
    {
     "data": {
      "text/plain": [
       "torch.Size([32, 27])"
      ]
     },
     "execution_count": 28,
     "metadata": {},
     "output_type": "execute_result"
    }
   ],
   "source": [
    "logits.shape"
   ]
  },
  {
   "cell_type": "code",
   "execution_count": 29,
   "metadata": {},
   "outputs": [],
   "source": [
    "counts = logits.exp()\n",
    "#The exponential function exp() is often used in machine learning to ensure that all the outputs are positive and to exaggerate \n",
    "# the differences between values."
   ]
  },
  {
   "cell_type": "code",
   "execution_count": 30,
   "metadata": {},
   "outputs": [],
   "source": [
    "prob = counts / counts.sum(1, keepdims=True)"
   ]
  },
  {
   "cell_type": "code",
   "execution_count": 31,
   "metadata": {},
   "outputs": [
    {
     "data": {
      "text/plain": [
       "torch.Size([32, 27])"
      ]
     },
     "execution_count": 31,
     "metadata": {},
     "output_type": "execute_result"
    }
   ],
   "source": [
    "prob.shape"
   ]
  },
  {
   "cell_type": "code",
   "execution_count": 32,
   "metadata": {},
   "outputs": [
    {
     "data": {
      "text/plain": [
       "tensor(13.0453)"
      ]
     },
     "execution_count": 32,
     "metadata": {},
     "output_type": "execute_result"
    }
   ],
   "source": [
    "loss = -prob[torch.arange(32), Y].log().mean()\n",
    "loss"
   ]
  },
  {
   "cell_type": "code",
   "execution_count": 33,
   "metadata": {},
   "outputs": [],
   "source": [
    "# ------------ now made respectable :) ---------------"
   ]
  },
  {
   "cell_type": "code",
   "execution_count": 34,
   "metadata": {},
   "outputs": [
    {
     "data": {
      "text/plain": [
       "(torch.Size([182625, 3]), torch.Size([182625]))"
      ]
     },
     "execution_count": 34,
     "metadata": {},
     "output_type": "execute_result"
    }
   ],
   "source": [
    "Xtr.shape, Ytr.shape # dataset"
   ]
  },
  {
   "cell_type": "code",
   "execution_count": 35,
   "metadata": {},
   "outputs": [],
   "source": [
    "g = torch.Generator().manual_seed(2147483647) # for reproducibility\n",
    "C = torch.randn((27, 10), generator=g)\n",
    "W1 = torch.randn((30, 200), generator=g)\n",
    "b1 = torch.randn(200, generator=g)\n",
    "W2 = torch.randn((200, 27), generator=g)\n",
    "b2 = torch.randn(27, generator=g)\n",
    "parameters = [C, W1, b1, W2, b2]"
   ]
  },
  {
   "cell_type": "code",
   "execution_count": 36,
   "metadata": {},
   "outputs": [
    {
     "data": {
      "text/plain": [
       "11897"
      ]
     },
     "execution_count": 36,
     "metadata": {},
     "output_type": "execute_result"
    }
   ],
   "source": [
    "sum(p.nelement() for p in parameters) # number of parameters in total"
   ]
  },
  {
   "cell_type": "code",
   "execution_count": 37,
   "metadata": {},
   "outputs": [],
   "source": [
    "for p in parameters:\n",
    "  p.requires_grad = True"
   ]
  },
  {
   "cell_type": "code",
   "execution_count": 38,
   "metadata": {},
   "outputs": [],
   "source": [
    "#linspace creates 1000 steps in between -3 and 0\n",
    "lre = torch.linspace(-3, 0, 1000)\n",
    "lrs = 10**lre"
   ]
  },
  {
   "cell_type": "code",
   "execution_count": 39,
   "metadata": {},
   "outputs": [],
   "source": [
    "lri = []\n",
    "lossi = []\n",
    "stepi = []"
   ]
  },
  {
   "cell_type": "markdown",
   "metadata": {},
   "source": [
    "<h2> Mini Batch Construct </h2>"
   ]
  },
  {
   "cell_type": "code",
   "execution_count": 40,
   "metadata": {},
   "outputs": [],
   "source": [
    "for i in range(200000):\n",
    "  \n",
    "# 0 to Xtr.Shape[0] is the range of random selection\n",
    "#another parameter (32,) determines the shape of the resultant matrix\n",
    "\n",
    " \n",
    "  ix = torch.randint(0, Xtr.shape[0], (32,)) # comma after 32 means create 1d matrix of shape 32\n",
    "  \n",
    "  # forward pass\n",
    "  emb = C[Xtr[ix]] # (32, 3, 10)\n",
    "  \n",
    "  h = torch.tanh(emb.view(-1, 30) @ W1 + b1) # (32, 200)\n",
    "  \n",
    "  logits = h @ W2 + b2 # (32, 27)\n",
    "  \n",
    "  # Concept behind F.cross_entropy\n",
    "  \"\"\"\n",
    "  counts= logits.exp() \n",
    "  prob  = counts/counts.sum(1, keepdims = True) \n",
    "  loss = -prob[torch.arrange(32), Y].log().mean()\n",
    "  \n",
    "  \"\"\"\n",
    "  \n",
    "  #Calculates the loss of the neural network\n",
    "  \"\"\"\n",
    "  counts= logits.exp() [we exaxerate the loss by exponenting it self because counts is a very very small no]\n",
    "  prob  = counts/counts.sum(1, keepdims = True) ###prob shapre is 32*27\n",
    "  \n",
    "  \n",
    "  #negative log likelihood loss\n",
    "  loss = -prob[torch.arrange(32), Y].log().mean()\n",
    "    #summary: This gives the current probabilities as assigned by \n",
    "  #this neural network with this ssetting of weights to the correct character in the sequence\n",
    "  \n",
    "  torch.arange(32) is just 0 to 31 in a tensor matrix\n",
    "  \n",
    "\n",
    "  prob[torch.arange(32)] => the index position of elements in probability matrix\n",
    "  but what does prob[torch.arange(32),Y] => is create an output of 32* Y.size\n",
    "  #which happens to be  32 (sum of characters of 5 names )\n",
    "  \n",
    "   \n",
    "  #lets talk about why\n",
    "  # Note: Y is the next character that comes after the block...\n",
    "  # We would like to  index into the rows of probability and each row we would like to pluck out the probability assigned\n",
    "  #to each of the character\n",
    " \n",
    "  \n",
    "  \"\"\"\n",
    "  \n",
    "\n",
    "  \n",
    "  loss = F.cross_entropy(logits, Ytr[ix])\n",
    "  \n",
    "  #print(loss.item())\n",
    "  \n",
    "  # backward pass\n",
    "  for p in parameters:\n",
    "    p.grad = None\n",
    "  loss.backward()\n",
    "  \n",
    "  # update\n",
    "  #lr = lrs[i]\n",
    "  lr = 0.1 if i < 100000 else 0.01\n",
    "  for p in parameters:\n",
    "    p.data += -lr * p.grad\n",
    "\n",
    "  # track stats\n",
    "  #lri.append(lre[i])\n",
    "  stepi.append(i)\n",
    "  lossi.append(loss.log10().item())\n",
    "\n",
    "#print(loss.item())"
   ]
  },
  {
   "cell_type": "code",
   "execution_count": 41,
   "metadata": {},
   "outputs": [
    {
     "data": {
      "text/plain": [
       "tensor([ 0,  1,  2,  3,  4,  5,  6,  7,  8,  9, 10, 11, 12, 13, 14, 15, 16, 17,\n",
       "        18, 19, 20, 21, 22, 23, 24, 25, 26, 27, 28, 29, 30, 31])"
      ]
     },
     "execution_count": 41,
     "metadata": {},
     "output_type": "execute_result"
    }
   ],
   "source": [
    "torch.arange(32)"
   ]
  },
  {
   "cell_type": "code",
   "execution_count": 42,
   "metadata": {},
   "outputs": [
    {
     "data": {
      "text/plain": [
       "182625"
      ]
     },
     "execution_count": 42,
     "metadata": {},
     "output_type": "execute_result"
    }
   ],
   "source": [
    "Xtr.shape[0]"
   ]
  },
  {
   "cell_type": "code",
   "execution_count": 43,
   "metadata": {},
   "outputs": [
    {
     "data": {
      "text/plain": [
       "[<matplotlib.lines.Line2D at 0x147c91410>]"
      ]
     },
     "execution_count": 43,
     "metadata": {},
     "output_type": "execute_result"
    },
    {
     "data": {
      "image/png": "[encoded data removed]",
      "text/plain": [
       "<Figure size 640x480 with 1 Axes>"
      ]
     },
     "metadata": {},
     "output_type": "display_data"
    }
   ],
   "source": [
    "plt.plot(stepi, lossi)"
   ]
  },
  {
   "cell_type": "code",
   "execution_count": 44,
   "metadata": {},
   "outputs": [
    {
     "data": {
      "text/plain": [
       "tensor(2.1332, grad_fn=<NllLossBackward0>)"
      ]
     },
     "execution_count": 44,
     "metadata": {},
     "output_type": "execute_result"
    }
   ],
   "source": [
    "emb = C[Xtr] # (32, 3, 2)\n",
    "h = torch.tanh(emb.view(-1, 30) @ W1 + b1) # (32, 100)\n",
    "logits = h @ W2 + b2 # (32, 27)\n",
    "loss = F.cross_entropy(logits, Ytr)\n",
    "loss"
   ]
  },
  {
   "cell_type": "code",
   "execution_count": 45,
   "metadata": {},
   "outputs": [
    {
     "data": {
      "text/plain": [
       "tensor(2.1716, grad_fn=<NllLossBackward0>)"
      ]
     },
     "execution_count": 45,
     "metadata": {},
     "output_type": "execute_result"
    }
   ],
   "source": [
    "emb = C[Xdev] # (32, 3, 2)\n",
    "h = torch.tanh(emb.view(-1, 30) @ W1 + b1) # (32, 100)\n",
    "logits = h @ W2 + b2 # (32, 27)\n",
    "loss = F.cross_entropy(logits, Ydev)\n",
    "loss"
   ]
  },
  {
   "cell_type": "code",
   "execution_count": 46,
   "metadata": {},
   "outputs": [
    {
     "data": {
      "image/png": "[encoded data removed]",
      "text/plain": [
       "<Figure size 800x800 with 1 Axes>"
      ]
     },
     "metadata": {},
     "output_type": "display_data"
    }
   ],
   "source": [
    "# visualize dimensions 0 and 1 of the embedding matrix C for all characters\n",
    "plt.figure(figsize=(8,8))\n",
    "plt.scatter(C[:,0].data, C[:,1].data, s=200)\n",
    "for i in range(C.shape[0]):\n",
    "    plt.text(C[i,0].item(), C[i,1].item(), itos[i], ha=\"center\", va=\"center\", color='white')\n",
    "plt.grid('minor')"
   ]
  },
  {
   "cell_type": "code",
   "execution_count": 78,
   "metadata": {},
   "outputs": [],
   "source": [
    "# training split, dev/validation split, test split\n",
    "# 80%, 10%, 10%"
   ]
  },
  {
   "cell_type": "code",
   "execution_count": 47,
   "metadata": {},
   "outputs": [
    {
     "data": {
      "text/plain": [
       "torch.Size([1, 3, 10])"
      ]
     },
     "execution_count": 47,
     "metadata": {},
     "output_type": "execute_result"
    }
   ],
   "source": [
    "context = [0] * block_size\n",
    "C[torch.tensor([context])].shape"
   ]
  },
  {
   "cell_type": "code",
   "execution_count": 48,
   "metadata": {},
   "outputs": [
    {
     "name": "stdout",
     "output_type": "stream",
     "text": [
      "carmah.\n",
      "amille.\n",
      "khy.\n",
      "mili.\n",
      "taty.\n",
      "skanden.\n",
      "jazhubellee.\n",
      "rha.\n",
      "kaeli.\n",
      "nerraishcieiah.\n",
      "kaleigh.\n",
      "ham.\n",
      "pris.\n",
      "quinn.\n",
      "shon.\n",
      "walian.\n",
      "quin.\n",
      "elo.\n",
      "dearynn.\n",
      "jacee.\n"
     ]
    }
   ],
   "source": [
    "\n",
    "\n",
    "# sample from the model\n",
    "g = torch.Generator().manual_seed(2147483647 + 10)\n",
    "\n",
    "for _ in range(20):\n",
    "    \n",
    "    out = []\n",
    "    context = [0] * block_size # initialize with all ...\n",
    "    while True:\n",
    "      emb = C[torch.tensor([context])] # (1,block_size,d)\n",
    "      h = torch.tanh(emb.view(1, -1) @ W1 + b1)\n",
    "      logits = h @ W2 + b2\n",
    "      probs = F.softmax(logits, dim=1)\n",
    "      ix = torch.multinomial(probs, num_samples=1, generator=g).item()\n",
    "      context = context[1:] + [ix]\n",
    "      out.append(ix)\n",
    "      if ix == 0:\n",
    "        break\n",
    "    \n",
    "    print(''.join(itos[i] for i in out))"
   ]
  },
  {
   "cell_type": "code",
   "execution_count": null,
   "metadata": {},
   "outputs": [],
   "source": []
  }
 ],
 "metadata": {
  "kernelspec": {
   "display_name": "Python 3",
   "language": "python",
   "name": "python3"
  },
  "language_info": {
   "codemirror_mode": {
    "name": "ipython",
    "version": 3
   },
   "file_extension": ".py",
   "mimetype": "text/x-python",
   "name": "python",
   "nbconvert_exporter": "python",
   "pygments_lexer": "ipython3",
   "version": "3.11.8"
  }
 },
 "nbformat": 4,
 "nbformat_minor": 2
}
